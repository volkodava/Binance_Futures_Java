{
  "nbformat": 4,
  "nbformat_minor": 0,
  "metadata": {
    "colab": {
      "provenance": [],
      "include_colab_link": true
    },
    "kernelspec": {
      "name": "python3",
      "display_name": "Python 3"
    },
    "accelerator": "GPU"
  },
  "cells": [
    {
      "cell_type": "markdown",
      "metadata": {
        "id": "view-in-github",
        "colab_type": "text"
      },
      "source": [
        "<a href=\"https://colab.research.google.com/github/volkodava/Binance_Futures_Java/blob/master/notebooks/how-to-use-ultralytics-yolo-with-sahi.ipynb\" target=\"_parent\"><img src=\"https://colab.research.google.com/assets/colab-badge.svg\" alt=\"Open In Colab\"/></a>"
      ]
    },
    {
      "cell_type": "markdown",
      "metadata": {
        "id": "t6MPjfT5NrKQ"
      },
      "source": [
        "<div align=\"center\">\n",
        "\n",
        "  <a href=\"https://ultralytics.com/yolo\" target=\"_blank\">\n",
        "    <img width=\"1024\", src=\"https://raw.githubusercontent.com/ultralytics/assets/main/yolov8/banner-yolov8.png\"></a>\n",
        "\n",
        "  [中文](https://docs.ultralytics.com/zh/) | [한국어](https://docs.ultralytics.com/ko/) | [日本語](https://docs.ultralytics.com/ja/) | [Русский](https://docs.ultralytics.com/ru/) | [Deutsch](https://docs.ultralytics.com/de/) | [Français](https://docs.ultralytics.com/fr/) | [Español](https://docs.ultralytics.com/es/) | [Português](https://docs.ultralytics.com/pt/) | [Türkçe](https://docs.ultralytics.com/tr/) | [Tiếng Việt](https://docs.ultralytics.com/vi/) | [العربية](https://docs.ultralytics.com/ar/)\n",
        "\n",
        "  <a href=\"https://github.com/ultralytics/ultralytics/actions/workflows/ci.yml\"><img src=\"https://github.com/ultralytics/ultralytics/actions/workflows/ci.yml/badge.svg\" alt=\"Ultralytics CI\"></a>\n",
        "  <a href=\"https://colab.research.google.com/github/ultralytics/notebooks/blob/main/notebooks/how-to-use-ultralytics-yolo-with-sahi.ipynb\"><img src=\"https://colab.research.google.com/assets/colab-badge.svg\" alt=\"Open In Colab\"></a>\n",
        "\n",
        "  <a href=\"https://ultralytics.com/discord\"><img alt=\"Discord\" src=\"https://img.shields.io/discord/1089800235347353640?logo=discord&logoColor=white&label=Discord&color=blue\"></a>\n",
        "  <a href=\"https://community.ultralytics.com\"><img alt=\"Ultralytics Forums\" src=\"https://img.shields.io/discourse/users?server=https%3A%2F%2Fcommunity.ultralytics.com&logo=discourse&label=Forums&color=blue\"></a>\n",
        "  <a href=\"https://reddit.com/r/ultralytics\"><img alt=\"Ultralytics Reddit\" src=\"https://img.shields.io/reddit/subreddit-subscribers/ultralytics?style=flat&logo=reddit&logoColor=white&label=Reddit&color=blue\"></a>\n",
        "  \n",
        "  Welcome to the <a href=\"https://docs.ultralytics.com/guides/sahi-tiled-inference/\">Ultralytics YOLO11 with SAHI notebook 🚀</a>. YOLO11 is the latest version of the YOLO (You Only Look Once) AI models developed by <a href=\"https://ultralytics.com\">Ultralytics</a>. We hope that the resources in this notebook will help you get the most out of YOLO11 usage with SAHI. Please browse the YOLO11 <a href=\"https://docs.ultralytics.com/\">Docs</a> for details, raise an issue on <a href=\"https://github.com/ultralytics/ultralytics\">GitHub</a> for support, and join our <a href=\"https://ultralytics.com/discord\">Discord</a> community for questions and discussions!</div>"
      ]
    },
    {
      "cell_type": "markdown",
      "source": [
        "# Ultralytics YOLO11 with SAHI\n",
        "\n",
        "This notebook serves as the starting point for using the YOLO11 model with [SAHI (Slicing Aided Hyper Inference)](https://docs.ultralytics.com/guides/sahi-tiled-inference/).\n",
        "\n",
        "### What is Sliced Inference?\n",
        "\n",
        "Sliced Inference refers to the practice of subdividing a large or high-resolution image into smaller segments (slices), conducting object detection on these slices, and then recompiling the slices to reconstruct the object locations on the original image. This technique is invaluable in scenarios where computational resources are limited or when working with extremely high-resolution images that could otherwise lead to memory issues.\n",
        "\n",
        "### Benefits of Sliced Inference\n",
        "\n",
        "- **Reduced Computational Burden**: Smaller image slices are faster to process, and they consume less memory, enabling smoother operation on lower-end hardware.\n",
        "\n",
        "- **Preserved Detection Quality**: Since each slice is treated independently, there is no reduction in the quality of object detection, provided the slices are large enough to capture the objects of interest.\n",
        "\n",
        "- **Enhanced Scalability**: The technique allows for object detection to be more easily scaled across different sizes and resolutions of images, making it ideal for a wide range of applications from satellite imagery to medical diagnostics."
      ],
      "metadata": {
        "id": "7EM2nwU4jshF"
      }
    },
    {
      "cell_type": "markdown",
      "metadata": {
        "id": "7mGmQbAO5pQb"
      },
      "source": [
        "### Setup\n",
        "\n",
        "pip install `ultralytics` and [dependencies](https://github.com/ultralytics/ultralytics/blob/main/pyproject.toml) and check software and hardware.\n",
        "\n",
        "[![PyPI - Version](https://img.shields.io/pypi/v/ultralytics?logo=pypi&logoColor=white)](https://pypi.org/project/ultralytics/) [![Downloads](https://static.pepy.tech/badge/ultralytics)](https://www.pepy.tech/projects/ultralytics) [![PyPI - Python Version](https://img.shields.io/pypi/pyversions/ultralytics?logo=python&logoColor=gold)](https://pypi.org/project/ultralytics/)"
      ]
    },
    {
      "cell_type": "code",
      "metadata": {
        "id": "wbvMlHd_QwMG",
        "outputId": "ad3533f2-d8ee-4c5c-fe45-203fa8ce2d7e",
        "colab": {
          "base_uri": "https://localhost:8080/"
        }
      },
      "source": [
        "!pip install ultralytics sahi\n",
        "import ultralytics\n",
        "from ultralytics.utils.downloads import safe_download\n",
        "ultralytics.checks()"
      ],
      "execution_count": 1,
      "outputs": [
        {
          "output_type": "stream",
          "name": "stdout",
          "text": [
            "Ultralytics 8.3.144 🚀 Python-3.11.12 torch-2.6.0+cu124 CUDA:0 (Tesla T4, 15095MiB)\n",
            "Setup complete ✅ (2 CPUs, 12.7 GB RAM, 41.5/112.6 GB disk)\n"
          ]
        }
      ]
    },
    {
      "cell_type": "markdown",
      "source": [
        "### Clone Repository\n",
        "\n",
        "- Clone the `ultralytics` repository.\n",
        "- `%cd` to the examples section.\n",
        "- Move to `YOLOv8-SAHI-Inference-Video` folder."
      ],
      "metadata": {
        "id": "I7XY-vtnkPYf"
      }
    },
    {
      "cell_type": "code",
      "source": [
        "# Clone ultralytics repo\n",
        "!git clone https://github.com/ultralytics/ultralytics\n",
        "\n",
        "# cd to local directory\n",
        "%cd ultralytics/examples/YOLOv8-SAHI-Inference-Video"
      ],
      "metadata": {
        "id": "fNX-Ymha0HY6",
        "colab": {
          "base_uri": "https://localhost:8080/"
        },
        "outputId": "e5a69c8a-dee9-4e39-c9c9-fa96d89b2b32"
      },
      "execution_count": 2,
      "outputs": [
        {
          "output_type": "stream",
          "name": "stdout",
          "text": [
            "Cloning into 'ultralytics'...\n",
            "remote: Enumerating objects: 60469, done.\u001b[K\n",
            "remote: Counting objects: 100% (53/53), done.\u001b[K\n",
            "remote: Compressing objects: 100% (32/32), done.\u001b[K\n",
            "remote: Total 60469 (delta 33), reused 32 (delta 21), pack-reused 60416 (from 2)\u001b[K\n",
            "Receiving objects: 100% (60469/60469), 32.80 MiB | 22.11 MiB/s, done.\n",
            "Resolving deltas: 100% (44943/44943), done.\n",
            "/content/ultralytics/examples/YOLOv8-SAHI-Inference-Video\n"
          ]
        }
      ]
    },
    {
      "cell_type": "markdown",
      "source": [
        "### Download the Sample Video\n",
        "\n",
        "- If you want to use your own video, you can skip this step."
      ],
      "metadata": {
        "id": "mWszyoifxOtR"
      }
    },
    {
      "cell_type": "code",
      "source": [
        "safe_download(f\"https://github.com/ultralytics/assets/releases/download/v0.0.0/sahi.demo.video.mp4\", dir=\"/content\")"
      ],
      "metadata": {
        "colab": {
          "base_uri": "https://localhost:8080/"
        },
        "id": "Kkef3pklxVKP",
        "outputId": "560b2980-c3c6-45b1-e224-33e0b0ebdd77"
      },
      "execution_count": 3,
      "outputs": [
        {
          "output_type": "stream",
          "name": "stdout",
          "text": [
            "Downloading https://ultralytics.com/assets/sahi.demo.video.mp4 to '/content/sahi.demo.video.mp4'...\n"
          ]
        },
        {
          "output_type": "stream",
          "name": "stderr",
          "text": [
            "100%|██████████| 15.3M/15.3M [00:00<00:00, 105MB/s] \n"
          ]
        },
        {
          "output_type": "execute_result",
          "data": {
            "text/plain": [
              "PosixPath('/content/sahi.demo.video.mp4')"
            ]
          },
          "metadata": {},
          "execution_count": 3
        }
      ]
    },
    {
      "cell_type": "markdown",
      "source": [
        "### Inference using SAHI\n",
        "\n",
        "The output results will be stored in `ultralytics/ultralytics/examples/YOLOv8-SAHI-Inference-Video/`"
      ],
      "metadata": {
        "id": "yoP5eiVX1X37"
      }
    },
    {
      "cell_type": "code",
      "source": [
        "#inference (default latest model will be selected i.e yolo11n.pt)\n",
        "!python yolov8_sahi.py --source \"/content/sahi.demo.video.mp4\""
      ],
      "metadata": {
        "id": "B1YbLnvG1WAS",
        "outputId": "79d34e39-d96f-47bf-c10b-b4bed437526a",
        "colab": {
          "base_uri": "https://localhost:8080/"
        }
      },
      "execution_count": null,
      "outputs": [
        {
          "output_type": "stream",
          "name": "stdout",
          "text": [
            "\ryolo11n.pt:   0% 0.00/5.35M [00:00<?, ?B/s]\ryolo11n.pt: 100% 5.35M/5.35M [00:00<00:00, 86.4MB/s]\n",
            "Ultralytics 8.3.144 🚀 Python-3.11.12 torch-2.6.0+cu124 CUDA:0 (Tesla T4, 15095MiB)\n",
            "Downloading https://github.com/ultralytics/assets/releases/download/v8.3.0/yolo11n.pt to 'models/yolo11n.pt'...\n",
            "100% 5.35M/5.35M [00:00<00:00, 110MB/s]\n",
            "Performing prediction on 9 slices.\n",
            "Performing prediction on 9 slices.\n",
            "Performing prediction on 9 slices.\n",
            "Performing prediction on 9 slices.\n",
            "Performing prediction on 9 slices.\n",
            "Performing prediction on 9 slices.\n",
            "Performing prediction on 9 slices.\n",
            "Performing prediction on 9 slices.\n",
            "Performing prediction on 9 slices.\n",
            "Performing prediction on 9 slices.\n",
            "Performing prediction on 9 slices.\n",
            "Performing prediction on 9 slices.\n",
            "Performing prediction on 9 slices.\n",
            "Performing prediction on 9 slices.\n",
            "Performing prediction on 9 slices.\n",
            "Performing prediction on 9 slices.\n",
            "Performing prediction on 9 slices.\n",
            "Performing prediction on 9 slices.\n",
            "Performing prediction on 9 slices.\n",
            "Performing prediction on 9 slices.\n",
            "Performing prediction on 9 slices.\n",
            "Performing prediction on 9 slices.\n",
            "Performing prediction on 9 slices.\n",
            "Performing prediction on 9 slices.\n",
            "Performing prediction on 9 slices.\n",
            "Performing prediction on 9 slices.\n",
            "Performing prediction on 9 slices.\n",
            "Performing prediction on 9 slices.\n",
            "Performing prediction on 9 slices.\n",
            "Performing prediction on 9 slices.\n",
            "Performing prediction on 9 slices.\n",
            "Performing prediction on 9 slices.\n",
            "Performing prediction on 9 slices.\n",
            "Performing prediction on 9 slices.\n",
            "Performing prediction on 9 slices.\n",
            "Performing prediction on 9 slices.\n",
            "Performing prediction on 9 slices.\n",
            "Performing prediction on 9 slices.\n",
            "Performing prediction on 9 slices.\n",
            "Performing prediction on 9 slices.\n",
            "Performing prediction on 9 slices.\n",
            "Performing prediction on 9 slices.\n",
            "Performing prediction on 9 slices.\n",
            "Performing prediction on 9 slices.\n",
            "Performing prediction on 9 slices.\n",
            "Performing prediction on 9 slices.\n",
            "Performing prediction on 9 slices.\n",
            "Performing prediction on 9 slices.\n",
            "Performing prediction on 9 slices.\n",
            "Performing prediction on 9 slices.\n",
            "Performing prediction on 9 slices.\n",
            "Performing prediction on 9 slices.\n",
            "Performing prediction on 9 slices.\n",
            "Performing prediction on 9 slices.\n",
            "Performing prediction on 9 slices.\n",
            "Performing prediction on 9 slices.\n",
            "Performing prediction on 9 slices.\n",
            "Performing prediction on 9 slices.\n",
            "Performing prediction on 9 slices.\n",
            "Performing prediction on 9 slices.\n",
            "Performing prediction on 9 slices.\n",
            "Performing prediction on 9 slices.\n",
            "Performing prediction on 9 slices.\n",
            "Performing prediction on 9 slices.\n",
            "Performing prediction on 9 slices.\n",
            "Performing prediction on 9 slices.\n",
            "Performing prediction on 9 slices.\n",
            "Performing prediction on 9 slices.\n",
            "Performing prediction on 9 slices.\n",
            "Performing prediction on 9 slices.\n",
            "Performing prediction on 9 slices.\n",
            "Performing prediction on 9 slices.\n",
            "Performing prediction on 9 slices.\n",
            "Performing prediction on 9 slices.\n",
            "Performing prediction on 9 slices.\n",
            "Performing prediction on 9 slices.\n",
            "Performing prediction on 9 slices.\n",
            "Performing prediction on 9 slices.\n",
            "Performing prediction on 9 slices.\n",
            "Performing prediction on 9 slices.\n",
            "Performing prediction on 9 slices.\n",
            "Performing prediction on 9 slices.\n",
            "Performing prediction on 9 slices.\n",
            "Performing prediction on 9 slices.\n",
            "Performing prediction on 9 slices.\n",
            "Performing prediction on 9 slices.\n",
            "Performing prediction on 9 slices.\n",
            "Performing prediction on 9 slices.\n",
            "Performing prediction on 9 slices.\n",
            "Performing prediction on 9 slices.\n",
            "Performing prediction on 9 slices.\n",
            "Performing prediction on 9 slices.\n",
            "Performing prediction on 9 slices.\n",
            "Performing prediction on 9 slices.\n",
            "Performing prediction on 9 slices.\n",
            "Performing prediction on 9 slices.\n",
            "Performing prediction on 9 slices.\n",
            "Performing prediction on 9 slices.\n",
            "Performing prediction on 9 slices.\n",
            "Performing prediction on 9 slices.\n",
            "Performing prediction on 9 slices.\n",
            "Performing prediction on 9 slices.\n",
            "Performing prediction on 9 slices.\n",
            "Performing prediction on 9 slices.\n",
            "Performing prediction on 9 slices.\n",
            "Performing prediction on 9 slices.\n",
            "Performing prediction on 9 slices.\n",
            "Performing prediction on 9 slices.\n",
            "Performing prediction on 9 slices.\n",
            "Performing prediction on 9 slices.\n",
            "Performing prediction on 9 slices.\n",
            "Performing prediction on 9 slices.\n",
            "Performing prediction on 9 slices.\n",
            "Performing prediction on 9 slices.\n",
            "Performing prediction on 9 slices.\n",
            "Performing prediction on 9 slices.\n",
            "Performing prediction on 9 slices.\n",
            "Performing prediction on 9 slices.\n",
            "Performing prediction on 9 slices.\n",
            "Performing prediction on 9 slices.\n",
            "Performing prediction on 9 slices.\n",
            "Performing prediction on 9 slices.\n",
            "Performing prediction on 9 slices.\n",
            "Performing prediction on 9 slices.\n",
            "Performing prediction on 9 slices.\n",
            "Performing prediction on 9 slices.\n",
            "Performing prediction on 9 slices.\n",
            "Performing prediction on 9 slices.\n",
            "Performing prediction on 9 slices.\n",
            "Performing prediction on 9 slices.\n",
            "Performing prediction on 9 slices.\n",
            "Performing prediction on 9 slices.\n",
            "Performing prediction on 9 slices.\n",
            "Performing prediction on 9 slices.\n",
            "Performing prediction on 9 slices.\n",
            "Performing prediction on 9 slices.\n",
            "Performing prediction on 9 slices.\n",
            "Performing prediction on 9 slices.\n",
            "Performing prediction on 9 slices.\n",
            "Performing prediction on 9 slices.\n",
            "Performing prediction on 9 slices.\n",
            "Performing prediction on 9 slices.\n",
            "Performing prediction on 9 slices.\n",
            "Performing prediction on 9 slices.\n",
            "Performing prediction on 9 slices.\n",
            "Performing prediction on 9 slices.\n",
            "Performing prediction on 9 slices.\n",
            "Performing prediction on 9 slices.\n",
            "Performing prediction on 9 slices.\n",
            "Performing prediction on 9 slices.\n",
            "Performing prediction on 9 slices.\n",
            "Performing prediction on 9 slices.\n",
            "Performing prediction on 9 slices.\n",
            "Performing prediction on 9 slices.\n",
            "Performing prediction on 9 slices.\n",
            "Performing prediction on 9 slices.\n",
            "Performing prediction on 9 slices.\n",
            "Performing prediction on 9 slices.\n",
            "Performing prediction on 9 slices.\n",
            "Performing prediction on 9 slices.\n",
            "Performing prediction on 9 slices.\n",
            "Performing prediction on 9 slices.\n",
            "Performing prediction on 9 slices.\n",
            "Performing prediction on 9 slices.\n",
            "Performing prediction on 9 slices.\n",
            "Performing prediction on 9 slices.\n",
            "Performing prediction on 9 slices.\n",
            "Performing prediction on 9 slices.\n",
            "Performing prediction on 9 slices.\n",
            "Performing prediction on 9 slices.\n",
            "Performing prediction on 9 slices.\n",
            "Performing prediction on 9 slices.\n",
            "Performing prediction on 9 slices.\n",
            "Performing prediction on 9 slices.\n",
            "Performing prediction on 9 slices.\n",
            "Performing prediction on 9 slices.\n",
            "Performing prediction on 9 slices.\n",
            "Performing prediction on 9 slices.\n",
            "Performing prediction on 9 slices.\n",
            "Performing prediction on 9 slices.\n",
            "Performing prediction on 9 slices.\n",
            "Performing prediction on 9 slices.\n",
            "Performing prediction on 9 slices.\n",
            "Performing prediction on 9 slices.\n",
            "Performing prediction on 9 slices.\n",
            "Performing prediction on 9 slices.\n",
            "Performing prediction on 9 slices.\n",
            "Performing prediction on 9 slices.\n",
            "Performing prediction on 9 slices.\n",
            "Performing prediction on 9 slices.\n",
            "Performing prediction on 9 slices.\n",
            "Performing prediction on 9 slices.\n",
            "Performing prediction on 9 slices.\n",
            "Performing prediction on 9 slices.\n",
            "Performing prediction on 9 slices.\n",
            "Performing prediction on 9 slices.\n",
            "Performing prediction on 9 slices.\n",
            "Performing prediction on 9 slices.\n",
            "Performing prediction on 9 slices.\n",
            "Performing prediction on 9 slices.\n",
            "Performing prediction on 9 slices.\n",
            "Performing prediction on 9 slices.\n",
            "Performing prediction on 9 slices.\n",
            "Performing prediction on 9 slices.\n",
            "Performing prediction on 9 slices.\n",
            "Performing prediction on 9 slices.\n",
            "Performing prediction on 9 slices.\n",
            "Performing prediction on 9 slices.\n",
            "Performing prediction on 9 slices.\n",
            "Performing prediction on 9 slices.\n",
            "Performing prediction on 9 slices.\n",
            "Performing prediction on 9 slices.\n",
            "Performing prediction on 9 slices.\n",
            "Performing prediction on 9 slices.\n",
            "Performing prediction on 9 slices.\n",
            "Performing prediction on 9 slices.\n",
            "Performing prediction on 9 slices.\n",
            "Performing prediction on 9 slices.\n",
            "Performing prediction on 9 slices.\n",
            "Performing prediction on 9 slices.\n",
            "Performing prediction on 9 slices.\n",
            "Performing prediction on 9 slices.\n",
            "Performing prediction on 9 slices.\n",
            "Performing prediction on 9 slices.\n",
            "Performing prediction on 9 slices.\n",
            "Performing prediction on 9 slices.\n",
            "Performing prediction on 9 slices.\n",
            "Performing prediction on 9 slices.\n",
            "Performing prediction on 9 slices.\n",
            "Performing prediction on 9 slices.\n",
            "Performing prediction on 9 slices.\n",
            "Performing prediction on 9 slices.\n",
            "Performing prediction on 9 slices.\n",
            "Performing prediction on 9 slices.\n",
            "Performing prediction on 9 slices.\n",
            "Performing prediction on 9 slices.\n",
            "Performing prediction on 9 slices.\n",
            "Performing prediction on 9 slices.\n",
            "Performing prediction on 9 slices.\n",
            "Performing prediction on 9 slices.\n",
            "Performing prediction on 9 slices.\n",
            "Performing prediction on 9 slices.\n",
            "Performing prediction on 9 slices.\n",
            "Performing prediction on 9 slices.\n",
            "Performing prediction on 9 slices.\n",
            "Performing prediction on 9 slices.\n",
            "Performing prediction on 9 slices.\n",
            "Performing prediction on 9 slices.\n",
            "Performing prediction on 9 slices.\n",
            "Performing prediction on 9 slices.\n",
            "Performing prediction on 9 slices.\n",
            "Performing prediction on 9 slices.\n",
            "Performing prediction on 9 slices.\n",
            "Performing prediction on 9 slices.\n",
            "Performing prediction on 9 slices.\n",
            "Performing prediction on 9 slices.\n",
            "Performing prediction on 9 slices.\n",
            "Performing prediction on 9 slices.\n",
            "Performing prediction on 9 slices.\n",
            "Performing prediction on 9 slices.\n",
            "Performing prediction on 9 slices.\n",
            "Performing prediction on 9 slices.\n",
            "Performing prediction on 9 slices.\n",
            "Performing prediction on 9 slices.\n",
            "Performing prediction on 9 slices.\n",
            "Performing prediction on 9 slices.\n",
            "Performing prediction on 9 slices.\n",
            "Performing prediction on 9 slices.\n",
            "Performing prediction on 9 slices.\n",
            "Performing prediction on 9 slices.\n",
            "Performing prediction on 9 slices.\n",
            "Performing prediction on 9 slices.\n",
            "Performing prediction on 9 slices.\n",
            "Performing prediction on 9 slices.\n",
            "Performing prediction on 9 slices.\n",
            "Performing prediction on 9 slices.\n",
            "Performing prediction on 9 slices.\n",
            "Performing prediction on 9 slices.\n",
            "Performing prediction on 9 slices.\n",
            "Performing prediction on 9 slices.\n",
            "Performing prediction on 9 slices.\n",
            "Performing prediction on 9 slices.\n",
            "Performing prediction on 9 slices.\n",
            "Performing prediction on 9 slices.\n",
            "Performing prediction on 9 slices.\n",
            "Performing prediction on 9 slices.\n",
            "Performing prediction on 9 slices.\n",
            "Performing prediction on 9 slices.\n",
            "Performing prediction on 9 slices.\n",
            "Performing prediction on 9 slices.\n",
            "Performing prediction on 9 slices.\n",
            "Performing prediction on 9 slices.\n",
            "Performing prediction on 9 slices.\n",
            "Performing prediction on 9 slices.\n",
            "Performing prediction on 9 slices.\n",
            "Performing prediction on 9 slices.\n",
            "Performing prediction on 9 slices.\n",
            "Performing prediction on 9 slices.\n",
            "Performing prediction on 9 slices.\n",
            "Performing prediction on 9 slices.\n",
            "Performing prediction on 9 slices.\n",
            "Performing prediction on 9 slices.\n",
            "Performing prediction on 9 slices.\n",
            "Performing prediction on 9 slices.\n",
            "Performing prediction on 9 slices.\n",
            "Performing prediction on 9 slices.\n",
            "Performing prediction on 9 slices.\n",
            "Performing prediction on 9 slices.\n",
            "Performing prediction on 9 slices.\n",
            "Performing prediction on 9 slices.\n",
            "Performing prediction on 9 slices.\n",
            "Performing prediction on 9 slices.\n",
            "Performing prediction on 9 slices.\n",
            "Performing prediction on 9 slices.\n",
            "Performing prediction on 9 slices.\n",
            "Performing prediction on 9 slices.\n",
            "Performing prediction on 9 slices.\n",
            "Performing prediction on 9 slices.\n",
            "Performing prediction on 9 slices.\n",
            "Performing prediction on 9 slices.\n",
            "Performing prediction on 9 slices.\n",
            "Performing prediction on 9 slices.\n",
            "Performing prediction on 9 slices.\n",
            "Performing prediction on 9 slices.\n",
            "Performing prediction on 9 slices.\n",
            "Performing prediction on 9 slices.\n",
            "Performing prediction on 9 slices.\n",
            "Performing prediction on 9 slices.\n",
            "Performing prediction on 9 slices.\n",
            "Performing prediction on 9 slices.\n",
            "Performing prediction on 9 slices.\n",
            "Performing prediction on 9 slices.\n",
            "Performing prediction on 9 slices.\n",
            "Performing prediction on 9 slices.\n",
            "Performing prediction on 9 slices.\n",
            "Performing prediction on 9 slices.\n",
            "Performing prediction on 9 slices.\n",
            "Performing prediction on 9 slices.\n",
            "Performing prediction on 9 slices.\n",
            "Performing prediction on 9 slices.\n",
            "Performing prediction on 9 slices.\n",
            "Performing prediction on 9 slices.\n",
            "Performing prediction on 9 slices.\n",
            "Performing prediction on 9 slices.\n",
            "Performing prediction on 9 slices.\n",
            "Performing prediction on 9 slices.\n",
            "Performing prediction on 9 slices.\n",
            "Performing prediction on 9 slices.\n"
          ]
        }
      ]
    },
    {
      "cell_type": "code",
      "source": [
        "# save the results\n",
        "!python yolov8_sahi.py --source \"/content/sahi.demo.video.mp4\" --save-img"
      ],
      "metadata": {
        "id": "P9R8a6W_uEgP"
      },
      "execution_count": null,
      "outputs": []
    },
    {
      "cell_type": "code",
      "source": [
        "#if you want to change model file\n",
        "!python yolov8_sahi.py --source \"/content/sahi.demo.video.mp4\" --weights \"yolo11n.pt\""
      ],
      "metadata": {
        "id": "FBOo71vhuG5G"
      },
      "execution_count": null,
      "outputs": []
    },
    {
      "cell_type": "markdown",
      "source": [
        "<p align=\"center\">\n",
        "  <img width=\"1024\" src=\"https://github.com/ultralytics/docs/releases/download/0/yolo11n-vs-sahi-yolo11n.avif\" alt=\"SAHI Sliced Inference Overview\">\n",
        "</p>"
      ],
      "metadata": {
        "id": "bWskbLSKH2S5"
      }
    },
    {
      "cell_type": "markdown",
      "source": [
        "### Additional Arguments\n",
        "\n",
        "- `--source`: Defines the file path of the video on which inference will be performed.  \n",
        "- `--save-img`: Enables saving the detection results as a video file.  \n",
        "- `--weights`: Allows specifying a different YOLO11 model file (e.g., yolo11n.pt, yolov8s.pt, yolo11m.pt, yolo11l.pt, yolo11x.pt)."
      ],
      "metadata": {
        "id": "UTcl_tpK18XM"
      }
    }
  ]
}